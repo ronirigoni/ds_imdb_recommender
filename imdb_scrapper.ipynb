{
 "cells": [
  {
   "cell_type": "markdown",
   "metadata": {},
   "source": [
    "#### Importing the relevants libraries"
   ]
  },
  {
   "cell_type": "code",
   "execution_count": 21,
   "metadata": {},
   "outputs": [],
   "source": [
    "import numpy as np\n",
    "import pandas as pd\n",
    "import re\n",
    "import requests\n",
    "from bs4 import BeautifulSoup"
   ]
  },
  {
   "cell_type": "markdown",
   "metadata": {},
   "source": [
    "#### Accessing each webpage and parsing their content with BeautifulSoup"
   ]
  },
  {
   "cell_type": "code",
   "execution_count": 22,
   "metadata": {},
   "outputs": [],
   "source": [
    "# Will be 5 pages of 200 titles each, resulting in 1.000 titles\n",
    "soups = []\n",
    "\n",
    "# Here we create one BeautifulSoup object to each page\n",
    "# start=1 / start=201 / ... / start=801\n",
    "for page_num in range(0,5):\n",
    "    url = 'https://www.imdb.com/search/title/?count=200&groups=top_1000&sort=user_rating&start='\n",
    "    url += str(page_num*200 + 1)\n",
    "    soups.append( BeautifulSoup(requests.get(url).text, 'html.parser') ) "
   ]
  },
  {
   "cell_type": "markdown",
   "metadata": {},
   "source": [
    "#### Grabbing the relevant information of each movie, in each parsed page"
   ]
  },
  {
   "cell_type": "code",
   "execution_count": 23,
   "metadata": {},
   "outputs": [],
   "source": [
    "titles = []\n",
    "ratings = []\n",
    "genres = []\n",
    "directors = []\n",
    "castings = []\n",
    "imdb_ids = []\n",
    "years = []\n",
    "plots = []\n",
    "\n",
    "for soup in soups:\n",
    "    # Pegar todo o texto da div lister-list (tem todos os filmes)\n",
    "    movies = soup.find_all(\"div\", \"lister-item\")\n",
    "\n",
    "    for movie in movies:\n",
    "        titles.append(movie.h3.a.text)\n",
    "        ratings.append(float(movie.find('div', 'ratings-bar').find('strong').text))\n",
    "        genres.append(re.findall(r'\\w+(?:-\\w+)+|[a-zA-Z]+', movie.find('span', 'genre').text))\n",
    "        imdb_ids.append(str.replace(movie.h3.a['href'], '/title/', '')[:-1])\n",
    "        year_text = movie.find('span', 'lister-item-year').text\n",
    "        years.append(int(re.findall(r'[0-9]+', year_text)[0]))\n",
    "        plots.append(str.replace(movie.findAll(\"p\", \"text-muted\")[1].text, '\\n', ''))\n",
    "        directors.append(movie.findAll(\"p\")[2].a.text)"
   ]
  },
  {
   "cell_type": "markdown",
   "metadata": {},
   "source": [
    "#### Creating a Pandas DataFrame"
   ]
  },
  {
   "cell_type": "code",
   "execution_count": 24,
   "metadata": {},
   "outputs": [
    {
     "data": {
      "text/html": [
       "<div>\n",
       "<style scoped>\n",
       "    .dataframe tbody tr th:only-of-type {\n",
       "        vertical-align: middle;\n",
       "    }\n",
       "\n",
       "    .dataframe tbody tr th {\n",
       "        vertical-align: top;\n",
       "    }\n",
       "\n",
       "    .dataframe thead th {\n",
       "        text-align: right;\n",
       "    }\n",
       "</style>\n",
       "<table border=\"1\" class=\"dataframe\">\n",
       "  <thead>\n",
       "    <tr style=\"text-align: right;\">\n",
       "      <th></th>\n",
       "      <th>imdb_id</th>\n",
       "      <th>title</th>\n",
       "      <th>rate</th>\n",
       "      <th>year</th>\n",
       "      <th>director</th>\n",
       "      <th>genres</th>\n",
       "      <th>plot</th>\n",
       "    </tr>\n",
       "  </thead>\n",
       "  <tbody>\n",
       "    <tr>\n",
       "      <th>0</th>\n",
       "      <td>tt0111161</td>\n",
       "      <td>Um Sonho de Liberdade</td>\n",
       "      <td>9.3</td>\n",
       "      <td>1994</td>\n",
       "      <td>Frank Darabont</td>\n",
       "      <td>[Drama]</td>\n",
       "      <td>Two imprisoned men bond over a number of years...</td>\n",
       "    </tr>\n",
       "    <tr>\n",
       "      <th>1</th>\n",
       "      <td>tt0068646</td>\n",
       "      <td>O Poderoso Chefão</td>\n",
       "      <td>9.2</td>\n",
       "      <td>1972</td>\n",
       "      <td>Francis Ford Coppola</td>\n",
       "      <td>[Crime, Drama]</td>\n",
       "      <td>The aging patriarch of an organized crime dyna...</td>\n",
       "    </tr>\n",
       "    <tr>\n",
       "      <th>2</th>\n",
       "      <td>tt9263550</td>\n",
       "      <td>Rocketry: The Nambi Effect</td>\n",
       "      <td>9.0</td>\n",
       "      <td>2022</td>\n",
       "      <td>Madhavan</td>\n",
       "      <td>[Biography, Drama]</td>\n",
       "      <td>Based on the life of Indian Space Research Org...</td>\n",
       "    </tr>\n",
       "    <tr>\n",
       "      <th>3</th>\n",
       "      <td>tt0468569</td>\n",
       "      <td>Batman: O Cavaleiro das Trevas</td>\n",
       "      <td>9.0</td>\n",
       "      <td>2008</td>\n",
       "      <td>Christopher Nolan</td>\n",
       "      <td>[Action, Crime, Drama]</td>\n",
       "      <td>When the menace known as the Joker wreaks havo...</td>\n",
       "    </tr>\n",
       "    <tr>\n",
       "      <th>4</th>\n",
       "      <td>tt0167260</td>\n",
       "      <td>O Senhor dos Anéis: O Retorno do Rei</td>\n",
       "      <td>9.0</td>\n",
       "      <td>2003</td>\n",
       "      <td>Peter Jackson</td>\n",
       "      <td>[Action, Adventure, Drama]</td>\n",
       "      <td>Gandalf and Aragorn lead the World of Men agai...</td>\n",
       "    </tr>\n",
       "  </tbody>\n",
       "</table>\n",
       "</div>"
      ],
      "text/plain": [
       "     imdb_id                                 title  rate  year  \\\n",
       "0  tt0111161                 Um Sonho de Liberdade   9.3  1994   \n",
       "1  tt0068646                     O Poderoso Chefão   9.2  1972   \n",
       "2  tt9263550            Rocketry: The Nambi Effect   9.0  2022   \n",
       "3  tt0468569        Batman: O Cavaleiro das Trevas   9.0  2008   \n",
       "4  tt0167260  O Senhor dos Anéis: O Retorno do Rei   9.0  2003   \n",
       "\n",
       "               director                      genres  \\\n",
       "0        Frank Darabont                     [Drama]   \n",
       "1  Francis Ford Coppola              [Crime, Drama]   \n",
       "2              Madhavan          [Biography, Drama]   \n",
       "3     Christopher Nolan      [Action, Crime, Drama]   \n",
       "4         Peter Jackson  [Action, Adventure, Drama]   \n",
       "\n",
       "                                                plot  \n",
       "0  Two imprisoned men bond over a number of years...  \n",
       "1  The aging patriarch of an organized crime dyna...  \n",
       "2  Based on the life of Indian Space Research Org...  \n",
       "3  When the menace known as the Joker wreaks havo...  \n",
       "4  Gandalf and Aragorn lead the World of Men agai...  "
      ]
     },
     "execution_count": 24,
     "metadata": {},
     "output_type": "execute_result"
    }
   ],
   "source": [
    "movies_df = pd.DataFrame({\n",
    "        'imdb_id': imdb_ids,\n",
    "        'title': titles,\n",
    "        'rate': ratings,\n",
    "        'year': years,\n",
    "        'director': directors,\n",
    "        'genres': genres,\n",
    "        'plot': plots\n",
    "    })\n",
    "\n",
    "movies_df.head()"
   ]
  },
  {
   "cell_type": "markdown",
   "metadata": {},
   "source": [
    "#### Saving the DataFrame in a CSV file to use in the Machine Learning model"
   ]
  },
  {
   "cell_type": "code",
   "execution_count": 25,
   "metadata": {},
   "outputs": [],
   "source": [
    "movies_df.to_csv('imdb_top_1000.csv', index=False)"
   ]
  }
 ],
 "metadata": {
  "kernelspec": {
   "display_name": "Python 3.9.13 64-bit (windows store)",
   "language": "python",
   "name": "python3"
  },
  "language_info": {
   "codemirror_mode": {
    "name": "ipython",
    "version": 3
   },
   "file_extension": ".py",
   "mimetype": "text/x-python",
   "name": "python",
   "nbconvert_exporter": "python",
   "pygments_lexer": "ipython3",
   "version": "3.9.13"
  },
  "orig_nbformat": 4,
  "vscode": {
   "interpreter": {
    "hash": "44e092dbf5a2d7f854204366b602d774237af8617f169b3b06803da90d84e814"
   }
  }
 },
 "nbformat": 4,
 "nbformat_minor": 2
}
